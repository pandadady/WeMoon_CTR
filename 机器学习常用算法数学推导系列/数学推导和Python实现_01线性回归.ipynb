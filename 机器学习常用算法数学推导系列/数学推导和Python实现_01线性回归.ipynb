{
 "cells": [
  {
   "cell_type": "markdown",
   "metadata": {},
   "source": [
    "# 基于numpy实现线性回归"
   ]
  },
  {
   "cell_type": "code",
   "execution_count": 1,
   "metadata": {},
   "outputs": [],
   "source": [
    "import numpy as np\n",
    "\n",
    "def loss_func(X, y, w, b):\n",
    "    train_nums = X.shape[0]\n",
    "    feature_nums = X.shape[1]    \n",
    "    # 模型公式f(x)= w*x + b\n",
    "    y_hat = np.dot(X, w) + b    \n",
    "    # 损失函数\n",
    "    loss = np.sum((y_hat-y)**2)/train_nums    \n",
    "    # 参数的偏导\n",
    "    dw = 2 * np.dot(X.T, (y_hat-y))\n",
    "    db = 2 * np.sum((y_hat-y))   \n",
    "    dw = dw/train_nums\n",
    "    db = db/train_nums\n",
    "    return y_hat, loss, dw, db"
   ]
  },
  {
   "cell_type": "code",
   "execution_count": 2,
   "metadata": {},
   "outputs": [],
   "source": [
    "#初始化权重：w 和 b\n",
    "def initialize_params(dims):\n",
    "    w = np.zeros((dims, 1))\n",
    "    b = 0\n",
    "    return w, b"
   ]
  },
  {
   "cell_type": "code",
   "execution_count": 3,
   "metadata": {},
   "outputs": [],
   "source": [
    "#基于梯度下降的模型训练过程：\n",
    "def gradient_descent(X, y, learning_rate, epochs):\n",
    "    w, b = initialize_params(X.shape[1])  \n",
    "    loss_list = []  \n",
    "    for i in range(1, epochs):        \n",
    "        # 计算当前预测值、损失和参数偏导\n",
    "        y_hat, loss, dw, db = loss_func(X, y, w, b)  \n",
    "        loss_list.append(loss)      \n",
    "        # 基于梯度下降的参数更新过程\n",
    "        if i%100000==0:\n",
    "            learning_rate=learning_rate*0.8\n",
    "        w += -learning_rate * dw\n",
    "        b += -learning_rate * db        \n",
    "        # 打印迭代次数和损失\n",
    "\n",
    "        if i % 10000 == 0:\n",
    "            print('epoch %d loss %f' % (i, loss))\n",
    "            print('epoch %d learning_rate %f' % (i, learning_rate))\n",
    "               \n",
    "        # 保存参数\n",
    "        params = {            \n",
    "            'w': w,            \n",
    "            'b': b\n",
    "        }        \n",
    "        \n",
    "        # 保存梯度\n",
    "        grads = {            \n",
    "            'dw': dw,            \n",
    "            'db': db\n",
    "        }    \n",
    "            \n",
    "    return loss_list, loss, params, grads"
   ]
  },
  {
   "cell_type": "code",
   "execution_count": 4,
   "metadata": {},
   "outputs": [],
   "source": [
    "#以上便是线性回归模型的基本实现过程。下面以 sklearn 中的 diabetes 数据集为例进行简单的训练。"
   ]
  },
  {
   "cell_type": "code",
   "execution_count": 5,
   "metadata": {},
   "outputs": [
    {
     "name": "stdout",
     "output_type": "stream",
     "text": [
      "X_train= (397, 10)\n",
      "X_test= (45, 10)\n",
      "y_train= (397, 1)\n",
      "y_test= (45, 1)\n"
     ]
    }
   ],
   "source": [
    "#数据准备：\n",
    "from sklearn.datasets import load_diabetes\n",
    "from sklearn.utils import shuffle\n",
    "\n",
    "diabetes = load_diabetes()\n",
    "data = diabetes.data\n",
    "target = diabetes.target \n",
    "\n",
    "# 打乱数据\n",
    "X, y = shuffle(data, target, random_state=13)\n",
    "X = X.astype(np.float32)\n",
    "\n",
    "# 训练集与测试集的简单划分\n",
    "offset = int(X.shape[0] * 0.9)\n",
    "X_train, y_train = X[:offset], y[:offset]\n",
    "X_test, y_test = X[offset:], y[offset:]\n",
    "y_train = y_train.reshape((-1,1))\n",
    "y_test = y_test.reshape((-1,1))\n",
    "\n",
    "print('X_train=', X_train.shape)\n",
    "print('X_test=', X_test.shape)\n",
    "print('y_train=', y_train.shape)\n",
    "print('y_test=', y_test.shape)"
   ]
  },
  {
   "cell_type": "code",
   "execution_count": 6,
   "metadata": {},
   "outputs": [
    {
     "name": "stdout",
     "output_type": "stream",
     "text": [
      "epoch 10000 loss 2864.567324\n",
      "epoch 10000 learning_rate 0.500000\n",
      "epoch 20000 loss 2858.484056\n",
      "epoch 20000 learning_rate 0.500000\n",
      "epoch 30000 loss 2854.445879\n",
      "epoch 30000 learning_rate 0.500000\n",
      "epoch 40000 loss 2851.765062\n",
      "epoch 40000 learning_rate 0.500000\n",
      "epoch 50000 loss 2849.985346\n",
      "epoch 50000 learning_rate 0.500000\n",
      "epoch 60000 loss 2848.803845\n",
      "epoch 60000 learning_rate 0.500000\n",
      "epoch 70000 loss 2848.019481\n",
      "epoch 70000 learning_rate 0.500000\n",
      "epoch 80000 loss 2847.498765\n",
      "epoch 80000 learning_rate 0.500000\n",
      "epoch 90000 loss 2847.153077\n",
      "epoch 90000 learning_rate 0.500000\n"
     ]
    }
   ],
   "source": [
    "#执行训练：\n",
    "loss_list, loss, params, grads = gradient_descent(X_train, y_train, 0.5, 100000)"
   ]
  },
  {
   "cell_type": "code",
   "execution_count": 7,
   "metadata": {},
   "outputs": [
    {
     "name": "stdout",
     "output_type": "stream",
     "text": [
      "{'w': array([[  -0.86473399],\n",
      "       [-264.24734793],\n",
      "       [ 485.19146599],\n",
      "       [ 336.05439516],\n",
      "       [-747.05584309],\n",
      "       [ 417.67713741],\n",
      "       [  95.48517373],\n",
      "       [ 219.70910411],\n",
      "       [ 716.12195039],\n",
      "       [  82.48136561]]), 'b': 151.27786131503402}\n"
     ]
    }
   ],
   "source": [
    "print(params)"
   ]
  },
  {
   "cell_type": "code",
   "execution_count": 8,
   "metadata": {},
   "outputs": [
    {
     "data": {
      "text/plain": [
       "array([[120.03576734],\n",
       "       [163.39385018],\n",
       "       [134.84083758],\n",
       "       [100.07956453],\n",
       "       [142.88096289]])"
      ]
     },
     "execution_count": 8,
     "metadata": {},
     "output_type": "execute_result"
    }
   ],
   "source": [
    "#下面定义一个预测函数对测试集结果进行预测：\n",
    "def predict(X, params):\n",
    "    w = params['w']\n",
    "    b = params['b']\n",
    "\n",
    "    y_pred = np.dot(X, w) + b    \n",
    "    return y_pred\n",
    "\n",
    "y_pred = predict(X_test, params)\n",
    "y_pred[:5]"
   ]
  },
  {
   "cell_type": "code",
   "execution_count": 9,
   "metadata": {},
   "outputs": [
    {
     "data": {
      "text/plain": [
       "<Figure size 640x480 with 1 Axes>"
      ]
     },
     "metadata": {},
     "output_type": "display_data"
    }
   ],
   "source": [
    "#利用 matplotlib 对预测结果和真值进行展示：\n",
    "import matplotlib.pyplot as plt\n",
    "f = X_test.dot(params['w']) + params['b']\n",
    "\n",
    "plt.scatter(range(X_test.shape[0]), y_test)\n",
    "plt.plot(f, color = 'darkorange')\n",
    "plt.xlabel('X')\n",
    "plt.ylabel('y')\n",
    "plt.show()"
   ]
  },
  {
   "cell_type": "code",
   "execution_count": 10,
   "metadata": {},
   "outputs": [
    {
     "data": {
      "image/png": "[encoded data removed]",
      "text/plain": [
       "<Figure size 432x288 with 1 Axes>"
      ]
     },
     "metadata": {
      "needs_background": "light"
     },
     "output_type": "display_data"
    }
   ],
   "source": [
    "#可见全变量的数据对于线性回归模型的拟合并不好，一来数据本身的分布问题，二来简单的线性模型对于该数据拟合效果差。\n",
    "#当然，我们只是为了演示线性回归模型的基本过程，不要在意效果。\n",
    "#训练过程中损失的下降：\n",
    "plt.plot(loss_list, color = 'blue')\n",
    "plt.xlabel('epochs')\n",
    "plt.ylabel('loss')\n",
    "plt.show()"
   ]
  },
  {
   "cell_type": "code",
   "execution_count": 11,
   "metadata": {
    "scrolled": false
   },
   "outputs": [
    {
     "name": "stdout",
     "output_type": "stream",
     "text": [
      "five kold cross validation score is 2768.9837315034647\n",
      "valid score is 3424.3103942523876\n",
      "five kold cross validation score is 2622.6972860346455\n",
      "valid score is 3981.656533144954\n",
      "five kold cross validation score is 2946.642865591133\n",
      "valid score is 2675.130340063957\n",
      "five kold cross validation score is 2975.560410497327\n",
      "valid score is 2549.6305140934614\n",
      "five kold cross validation score is 2989.619578276991\n",
      "valid score is 2484.504069108119\n"
     ]
    }
   ],
   "source": [
    "# 封装一个线性回归类\n",
    "# 笔者对上述过程进行一个简单的 class 封装，其中加入了自定义的交叉验证过程进行训练：\n",
    "import numpy as np\n",
    "from sklearn.utils import shuffle\n",
    "from sklearn.datasets import load_diabetes\n",
    "\n",
    "\n",
    "class lr_model():\n",
    "    def __init__(self):\n",
    "        self.params = dict()\n",
    "        self.grads = dict()\n",
    "\n",
    "    def prepare_data(self):\n",
    "        data = load_diabetes().data\n",
    "        target = load_diabetes().target\n",
    "        X, y = shuffle(data, target, random_state=42)\n",
    "        X = X.astype(np.float32)\n",
    "        y = y.reshape((-1, 1))\n",
    "        data = np.concatenate((X, y), axis=1)\n",
    "        return data\n",
    "\n",
    "    def initialize_params(self, dims):\n",
    "        w = np.zeros((dims, 1))\n",
    "        b = 0\n",
    "        return w, b\n",
    "\n",
    "    def loss_func(self, X, y, w, b):\n",
    "        train_nums = X.shape[0]\n",
    "        feature_nums = X.shape[1]\n",
    "        # 模型公式f(x)= w*x + b\n",
    "        y_hat = np.dot(X, w) + b\n",
    "        # 损失函数\n",
    "        loss = np.sum((y_hat - y) ** 2) / train_nums\n",
    "        # 参数的偏导\n",
    "        dw = 2 * np.dot(X.T, (y_hat - y))\n",
    "        db = 2 * np.sum((y_hat - y))\n",
    "        dw = dw / train_nums\n",
    "        db = db / train_nums\n",
    "        return y_hat, loss, dw, db\n",
    "\n",
    "    # 带L2正则项\n",
    "    def loss_func_l2(self, X, y, w, b, alpha=1e-5):\n",
    "        train_nums = X.shape[0]\n",
    "        feature_nums = X.shape[1]\n",
    "        # 模型公式f(x)= w*x + b\n",
    "        y_hat = np.dot(X, w) + b + alpha * np.dot(w.T, w)\n",
    "        # 损失函数\n",
    "        loss = np.sum((y_hat - y) ** 2) / train_nums\n",
    "        # 参数的偏导\n",
    "        dw = 2 * np.dot(X.T, (y_hat - y))\n",
    "        db = 2 * np.sum((y_hat - y))\n",
    "        dw = dw / train_nums\n",
    "        db = db / train_nums\n",
    "        return y_hat, loss, dw, db\n",
    "\n",
    "    # 基于梯度下降的模型训练过程：\n",
    "    def gradient_descent(self, X, y, learning_rate, epochs):\n",
    "        w, b = self.initialize_params(X.shape[1])\n",
    "        loss_list = []\n",
    "        for i in range(1, epochs):\n",
    "            # 计算当前预测值、损失和参数偏导\n",
    "            y_hat, loss, dw, db = self.loss_func(X, y, w, b)\n",
    "            loss_list.append(loss)\n",
    "            # 基于梯度下降的参数更新过程\n",
    "            if i % 10000 == 0:\n",
    "                learning_rate = learning_rate * 0.5\n",
    "            w += -learning_rate * dw\n",
    "            b += -learning_rate * db\n",
    "            # 打印迭代次数和损失\n",
    "\n",
    "            if i % 10000 == 0:\n",
    "                print('epoch %d loss %f' % (i, loss))\n",
    "                print('epoch %d learning_rate %f' % (i, learning_rate))\n",
    "\n",
    "            # 保存参数\n",
    "            self.params = {\n",
    "                'w': w,\n",
    "                'b': b\n",
    "            }\n",
    "\n",
    "            # 保存梯度\n",
    "            self.grads = {\n",
    "                'dw': dw,\n",
    "                'db': db\n",
    "            }\n",
    "\n",
    "        params, grads= self.params, self.grads\n",
    "        return loss, params, grads\n",
    "\n",
    "    def predict(self, X, params):\n",
    "        w = self.params['w']\n",
    "        b = self.params['b']\n",
    "        y_pred = np.dot(X, w) + b\n",
    "#         print(\"y_pred:\", y_pred)\n",
    "        return y_pred\n",
    "\n",
    "    def linear_cross_validation(self, data, k, randomize=True):\n",
    "        if randomize:\n",
    "            data = list(data)\n",
    "            shuffle(data)\n",
    "\n",
    "        slices = [data[i::k] for i in range(k)]\n",
    "        for i in range(k):\n",
    "            validation = slices[i]\n",
    "            train = [dt for s in slices if s is not validation for dt in s]\n",
    "            train = np.array(train)\n",
    "            validation = np.array(validation)\n",
    "            yield train, validation\n",
    "\n",
    "\n",
    "if __name__ == '__main__':\n",
    "    lr = lr_model()\n",
    "    data = lr.prepare_data()\n",
    "\n",
    "    for train, validation in lr.linear_cross_validation(data, 5):\n",
    "        X_train = train[:, :10]\n",
    "        y_train = train[:, -1].reshape((-1, 1))\n",
    "        X_valid = validation[:, :10]\n",
    "        y_valid = validation[:, -1].reshape((-1, 1))\n",
    "\n",
    "        loss5 = []\n",
    "        loss, params, grads = lr.gradient_descent(X_train, y_train, learning_rate=0.3, epochs=10000)\n",
    "        loss5.append(loss)\n",
    "        score = np.mean(loss5)\n",
    "        print('five kold cross validation score is', score)\n",
    "        y_pred = lr.predict(X_valid, params)\n",
    "        valid_score = np.sum(((y_pred - y_valid) ** 2)) / len(X_valid)\n",
    "#         print(\"y_valid:\", y_valid)\n",
    "        print('valid score is', valid_score)"
   ]
  },
  {
   "cell_type": "code",
   "execution_count": null,
   "metadata": {},
   "outputs": [],
   "source": []
  }
 ],
 "metadata": {
  "kernelspec": {
   "display_name": "Python 3",
   "language": "python",
   "name": "python3"
  },
  "language_info": {
   "codemirror_mode": {
    "name": "ipython",
    "version": 3
   },
   "file_extension": ".py",
   "mimetype": "text/x-python",
   "name": "python",
   "nbconvert_exporter": "python",
   "pygments_lexer": "ipython3",
   "version": "3.7.4"
  }
 },
 "nbformat": 4,
 "nbformat_minor": 2
}
